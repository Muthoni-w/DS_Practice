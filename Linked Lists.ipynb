{
 "cells": [
  {
   "cell_type": "markdown",
   "id": "326cd646",
   "metadata": {},
   "source": [
    "## Linked List\n"
   ]
  },
  {
   "cell_type": "code",
   "execution_count": 20,
   "id": "394cb23a",
   "metadata": {},
   "outputs": [
    {
     "name": "stdout",
     "output_type": "stream",
     "text": [
      "linked list is empty\n"
     ]
    }
   ],
   "source": [
    "# Print the elements of a linked list\n",
    "\n",
    "class Node: # creating the node\n",
    "    def __init__(self, data):\n",
    "        self.data = data # first data point\n",
    "        self.next = None # Pointer to the next node\n",
    "        \n",
    "class LinkedList: #nodes and head/starting point of linked list\n",
    "    def __init__(self):\n",
    "        self.head = None # empty linked list\n",
    "        \n",
    "    def printLinkedList(self):\n",
    "        if self.head is None:\n",
    "            print(\"linked list is empty\")\n",
    "        else:\n",
    "            n = self.head\n",
    "            while n is not None: # while loop is used when we know the stopping condition, for loop when we know the no. of times to loop through\n",
    "                print (n.data)\n",
    "                n = n.ref # move to the next node\n",
    "                \n",
    "LL1 = LinkedList()\n",
    "LL1.printLinkedList()"
   ]
  },
  {
   "cell_type": "code",
   "execution_count": null,
   "id": "936acfd3",
   "metadata": {},
   "outputs": [],
   "source": []
  }
 ],
 "metadata": {
  "kernelspec": {
   "display_name": "Python 3",
   "language": "python",
   "name": "python3"
  },
  "language_info": {
   "codemirror_mode": {
    "name": "ipython",
    "version": 3
   },
   "file_extension": ".py",
   "mimetype": "text/x-python",
   "name": "python",
   "nbconvert_exporter": "python",
   "pygments_lexer": "ipython3",
   "version": "3.8.8"
  }
 },
 "nbformat": 4,
 "nbformat_minor": 5
}
